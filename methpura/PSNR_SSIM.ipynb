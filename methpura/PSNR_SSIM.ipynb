{
 "cells": [
  {
   "cell_type": "code",
   "execution_count": 6,
   "metadata": {},
   "outputs": [
    {
     "name": "stdout",
     "output_type": "stream",
     "text": [
      "PSNR: 5.553414361448218\n",
      "SSIM: 0.29052886390983584\n"
     ]
    }
   ],
   "source": [
    "import cv2\n",
    "import numpy as np\n",
    "from skimage.metrics import structural_similarity as ssim\n",
    "\n",
    "def compute_psnr(gt_image, generated_image):\n",
    "    return cv2.PSNR(gt_image, generated_image)\n",
    "\n",
    "def compute_ssim(gt_image, generated_image):\n",
    "    # Convert to grayscale for SSIM computation\n",
    "    gt_gray = cv2.cvtColor(gt_image, cv2.COLOR_BGR2GRAY)\n",
    "    gen_gray = cv2.cvtColor(generated_image, cv2.COLOR_BGR2GRAY)\n",
    "    return ssim(gt_gray, gen_gray)\n",
    "\n",
    "# Load the ground truth and the generated image (after classical colorization)\n",
    "gt_image = cv2.imread('test1/color_images/0002-image04733.jpg')  # Replace with actual path\n",
    "generated_image = cv2.imread('test1/output_images/color_mapping_images/0002-image04733.jpg_colorized.jpg')  # Replace with actual path\n",
    "\n",
    "# Ensure both images have the same shape\n",
    "generated_image = cv2.resize(generated_image, (gt_image.shape[1], gt_image.shape[0]))\n",
    "\n",
    "# Compute PSNR and SSIM\n",
    "psnr_value = compute_psnr(gt_image, generated_image)\n",
    "ssim_value = compute_ssim(gt_image, generated_image)\n",
    "\n",
    "print(f\"PSNR: {psnr_value}\")\n",
    "print(f\"SSIM: {ssim_value}\")\n"
   ]
  }
 ],
 "metadata": {
  "kernelspec": {
   "display_name": ".venv",
   "language": "python",
   "name": "python3"
  },
  "language_info": {
   "codemirror_mode": {
    "name": "ipython",
    "version": 3
   },
   "file_extension": ".py",
   "mimetype": "text/x-python",
   "name": "python",
   "nbconvert_exporter": "python",
   "pygments_lexer": "ipython3",
   "version": "3.10.11"
  }
 },
 "nbformat": 4,
 "nbformat_minor": 2
}
